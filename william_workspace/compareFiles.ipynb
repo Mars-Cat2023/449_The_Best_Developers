{
 "cells": [
  {
   "cell_type": "code",
   "execution_count": 21,
   "metadata": {},
   "outputs": [],
   "source": [
    "import os, json\n",
    "from letta import create_client \n",
    "from letta import EmbeddingConfig, LLMConfig\n",
    "import letta\n",
    "\n",
    "client = create_client()\n",
    "client.set_default_embedding_config(EmbeddingConfig.default_config(model_name=\"letta\"))\n",
    "client.set_default_llm_config(LLMConfig.default_config(model_name=\"letta\"))\n",
    "\n",
    "# client.send_message(\n",
    "#     agent_id=\"agent-2373b6c6-8fbb-4e1c-bfce-c027c3b17530\",\n",
    "#     message=\"\"\n",
    "# )\n",
    "\n"
   ]
  },
  {
   "cell_type": "code",
   "execution_count": 4,
   "metadata": {},
   "outputs": [
    {
     "name": "stdout",
     "output_type": "stream",
     "text": [
      "test1\n",
      "test2\n",
      "doct2.txt\n"
     ]
    }
   ],
   "source": [
    "import letta.data_sources\n",
    "import letta.data_sources.connectors\n",
    "import json\n",
    "\n",
    "def compareSimilarities(path):\n",
    "    \"\"\"\n",
    "    This tool sorts the user's file system.\n",
    "    If asked to sort or to organize the file system, call this function.\n",
    "\n",
    "    Args: \n",
    "    Returns: \n",
    "    \"\"\"\n",
    "\n",
    "    file = open(path)\n",
    "    fileData = json.load(file)\n",
    "    #fileDataS = json.dumps(fileData)\n",
    "    return fileData\n",
    "\n",
    "file_data = compareSimilarities('FileSystemData.json')\n",
    "file_keys = file_data['TestDirectory']['children'].keys()\n",
    "for k in file_keys:\n",
    "    print(k)"
   ]
  },
  {
   "cell_type": "code",
   "execution_count": 37,
   "metadata": {},
   "outputs": [],
   "source": [
    "import os, json\n",
    "from letta import create_client \n",
    "from letta import EmbeddingConfig, LLMConfig\n",
    "import letta\n",
    "\n",
    "\n",
    "\n",
    "def sort_FS(self,):\n",
    "    \"\"\"\n",
    "    This tool sorts the user's file system.\n",
    "    If asked to sort or to organize the file system, call this function.\n",
    "    Tell the user the return and results of the function call.\n",
    "\n",
    "    Args: \n",
    "    Returns: \n",
    "        fileSort (str) : This is the new organization of the file system users requested\n",
    "    \"\"\"\n",
    "    #create another client to ask\n",
    "    from letta import create_client \n",
    "    from letta import EmbeddingConfig, LLMConfig\n",
    "    import json, os\n",
    "    \n",
    "    client = create_client()\n",
    "    client.set_default_embedding_config(EmbeddingConfig.default_config(model_name=\"letta\"))\n",
    "    client.set_default_llm_config(LLMConfig.default_config(model_name=\"letta\"))\n",
    "\n",
    "    #get json data\n",
    "    #file = open('FileSystemData.json') #NOTE: hardCoded\n",
    "    file = open('dataTable3.json') #NOTE: hardCoded\n",
    "    fileData = json.load(file)\n",
    "    #fileDataS = json.dumps(fileData)\n",
    "\n",
    "    #create message to send to different agent\n",
    "    #NOTE: 1 layer simple sort, based on name\n",
    "    #file_keys = fileData['TestDirectory']['children'].keys() #NOTE: hardCoded\n",
    "    file_keys = fileData.keys() #NOTE: hardCoded\n",
    "    message = \"Using the template and given the following items, sort the items into the template based on commonalities. Return nothing else:\\nTemplate:\\n[category 1]{item 1, item2, ...}\\n[category 2]{item 1, item2, ...}\\n...\\nItems:\"\n",
    "    for k in file_keys:\n",
    "        message = message + \"\\n\" + k\n",
    "    \n",
    "    # agentName = \"helperAgent\"\n",
    "    \n",
    "    # agent_1 = client.create_agent(\n",
    "    #     name=agentName,\n",
    "    #     tools=[x.name for x in client.list_tools()]\n",
    "    # )\n",
    "\n",
    "    # helperAgent = client.get_agent(\n",
    "    #     agent_id=\"agent-7b9b10c7-d1cd-4367-be94-e67ab3817aab\" #hardCoded #OptimisticLion\n",
    "    # )\n",
    "\n",
    "    answer = client.send_message(\n",
    "        message=message,\n",
    "        role='user',\n",
    "        agent_id=\"agent-7b9b10c7-d1cd-4367-be94-e67ab3817aab\" #hardCoded #OptimisticLion,\n",
    "    )\n",
    "    answer = answer.messages[1].function_call.arguments\n",
    "    answer = json.loads(answer)\n",
    "    answer = json.dumps(answer['message'])\n",
    "    print(\"MY_ANSWER\", answer)\n",
    "\n",
    "    #self.interface.assistant_message(answer)  # , msg_obj=self._messages[-1])\n",
    "\n",
    "    outputFile = open(\"newFileSystem.txt\", 'w')\n",
    "    outputFile.write(answer)\n",
    "    \n",
    "    return answer\n",
    "\n",
    "sort_FS_tool = client.create_tool(sort_FS)\n"
   ]
  },
  {
   "cell_type": "code",
   "execution_count": 38,
   "metadata": {},
   "outputs": [
    {
     "name": "stdout",
     "output_type": "stream",
     "text": [
      "MY_ANSWER \"[Animals]{fish.txt, bird.txt, dog.txt}\\n[Fruits]{apple.txt, lemon.txt}\\n[Miscellaneous]{shoe.txt, tv.txt}\"\n"
     ]
    },
    {
     "data": {
      "text/plain": [
       "'\"[Animals]{fish.txt, bird.txt, dog.txt}\\\\n[Fruits]{apple.txt, lemon.txt}\\\\n[Miscellaneous]{shoe.txt, tv.txt}\"'"
      ]
     },
     "execution_count": 38,
     "metadata": {},
     "output_type": "execute_result"
    }
   ],
   "source": [
    "sort_FS('_')"
   ]
  },
  {
   "cell_type": "code",
   "execution_count": 40,
   "metadata": {},
   "outputs": [],
   "source": [
    "agentName = \"interfaceAgent\"\n",
    "\n",
    "agent_1 = client.create_agent(\n",
    "    name=agentName,\n",
    "    tools=[x.name for x in client.list_tools()]\n",
    "    )"
   ]
  }
 ],
 "metadata": {
  "kernelspec": {
   "display_name": "my_letta",
   "language": "python",
   "name": "python3"
  },
  "language_info": {
   "codemirror_mode": {
    "name": "ipython",
    "version": 3
   },
   "file_extension": ".py",
   "mimetype": "text/x-python",
   "name": "python",
   "nbconvert_exporter": "python",
   "pygments_lexer": "ipython3",
   "version": "3.12.4"
  }
 },
 "nbformat": 4,
 "nbformat_minor": 2
}
