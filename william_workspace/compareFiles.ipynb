{
 "cells": [
  {
   "cell_type": "code",
   "execution_count": 1,
   "metadata": {},
   "outputs": [
    {
     "name": "stdout",
     "output_type": "stream",
     "text": [
      "Initializing database...\n"
     ]
    }
   ],
   "source": [
    "import os, json\n",
    "from letta import create_client \n",
    "from letta import EmbeddingConfig, LLMConfig\n",
    "import letta\n",
    "\n",
    "client = create_client()\n",
    "client.set_default_embedding_config(EmbeddingConfig.default_config(model_name=\"letta\"))\n",
    "client.set_default_llm_config(LLMConfig.default_config(model_name=\"letta\"))\n",
    "\n",
    "# client.send_message(\n",
    "#     agent_id=\"agent-2373b6c6-8fbb-4e1c-bfce-c027c3b17530\",\n",
    "#     message=\"\"\n",
    "# )\n",
    "\n"
   ]
  },
  {
   "cell_type": "code",
   "execution_count": null,
   "metadata": {},
   "outputs": [],
   "source": [
    "import letta.data_sources\n",
    "import letta.data_sources.connectors\n",
    "import json\n",
    "\n",
    "def compareSimilarities(path):\n",
    "    \"\"\"\n",
    "    This tool sorts the user's file system.\n",
    "    If asked to sort or to organize the file system, call this function.\n",
    "\n",
    "    Args: \n",
    "    Returns: \n",
    "    \"\"\"\n",
    "\n",
    "    file = open(path)\n",
    "    fileData = json.load(file)\n",
    "    #fileDataS = json.dumps(fileData)\n",
    "    return fileData\n",
    "\n",
    "file_data = compareSimilarities('FileSystemData.json')\n",
    "file_keys = file_data['TestDirectory']['children'].keys()\n",
    "for k in file_keys:\n",
    "    print(k)"
   ]
  },
  {
   "cell_type": "code",
   "execution_count": 35,
   "metadata": {},
   "outputs": [],
   "source": [
    "import os, json\n",
    "from letta import create_client \n",
    "from letta import EmbeddingConfig, LLMConfig\n",
    "import letta\n",
    "\n",
    "\n",
    "\n",
    "def sort_FS(self, mode:str):\n",
    "    \"\"\"\n",
    "    This tool sorts the user's file system.\n",
    "    If asked to sort or to organize the file system, call this function.\n",
    "    Tell the user the return and results of the function call.\n",
    "    Query the user for the mode (valid modes are: content, extension, name, or date), before calling this function. \n",
    "\n",
    "\n",
    "    Args: \n",
    "        mode (str) : This is the mode in which the sorting should be done. Options are: content, extension, name, or date. This is chosen by the user.\n",
    "\n",
    "    Returns: \n",
    "        fileSort (str) : This is the new organization of the file system users requested\n",
    "    \"\"\"\n",
    "    #create another client to ask\n",
    "    from letta import create_client \n",
    "    from letta import EmbeddingConfig, LLMConfig\n",
    "    import json, os, re\n",
    "    \n",
    "    client = create_client()\n",
    "    client.set_default_embedding_config(EmbeddingConfig.default_config(model_name=\"letta\"))\n",
    "    client.set_default_llm_config(LLMConfig.default_config(model_name=\"letta\"))\n",
    "\n",
    "\n",
    "\n",
    "    #get json data\n",
    "    #file = open('FileSystemData.json') #NOTE: hardCoded\n",
    "    file = open('dataTable3.json') #NOTE: hardCoded\n",
    "    fileData = json.load(file)\n",
    "    #fileDataS = json.dumps(fileData)\n",
    "\n",
    "    #create message to send to different agent\n",
    "    #NOTE: 1 layer simple sort, based on name\n",
    "    file_keys = fileData.keys()\n",
    "\n",
    "    \n",
    "    template = \"\\nTemplate:\\n[group 1]{item 1, item2, ...}\\n[group 2]{item 3, item 4, ...}\\n...\\nItems:\"\n",
    "\n",
    "    enforceSingle = \"If an item has already be grouped, do not group it again. Thus, for each item listed, it should only appear once amoungst all groups. Return only the output template and nothing else:\"\n",
    "    \n",
    "    if mode == 'name':\n",
    "        prompt = f\"Using the template and given the following files, group the files into the template based on the commonalities in the topic, semantics, or meanings of the names. Ignore the file extension or file type\"\n",
    "\n",
    "        message = prompt + enforceSingle + template\n",
    "        for k in file_keys:\n",
    "            message = message + \"\\n\" + k\n",
    "\n",
    "    elif mode == 'extension':\n",
    "        prompt = f\"Using the template and given the following files, group the files into the template based on the commonalities of ONLY on the {mode}s of the file, and not on the name.\"\n",
    "\n",
    "        message = prompt + enforceSingle + template\n",
    "        for k in file_keys:\n",
    "            message = message + \"\\n\" + k\n",
    "    elif mode  == 'content':\n",
    "        #NOTE: when we say content, we are also refereing to file summary\n",
    "        for k in file_keys:\n",
    "            try:\n",
    "                message =  message + '\\n file: \"' + k + '\" content: \"' + fileData[k]['summary'] + '\"'\n",
    "            except KeyError:\n",
    "                continue \n",
    "    \n",
    "    \n",
    "\n",
    "    print(f'Testing Output: {message}')\n",
    "\n",
    "    #NOTE: for easier testing, try to start fresh so we know effect of prompting\n",
    "    try:\n",
    "        agentState = client.create_agent('background_agent')\n",
    "    except ValueError:\n",
    "        agentID = client.get_agent_id('background_agent')\n",
    "        client.delete_agent(agentID)\n",
    "        agentState = client.create_agent('background_agent')\n",
    "    \n",
    "    \n",
    "    answer = client.send_message(\n",
    "        message=message,\n",
    "        role='user',\n",
    "        agent_id=agentState.id\n",
    "    )\n",
    "\n",
    "    \n",
    "\n",
    "    answer = answer.messages[1].function_call.arguments\n",
    "    answer = json.loads(answer)\n",
    "    answer = json.dumps(answer['message'])\n",
    "    print(\"MY_ANSWER\", answer)\n",
    "\n",
    "    #self.interface.assistant_message(answer)  # , msg_obj=self._messages[-1])\n",
    "\n",
    "    outputFile = open(\"newFileSystem.txt\", 'w')\n",
    "    outputFile.write(answer)\n",
    "    \n",
    "    return answer\n",
    "\n",
    "sort_FS_tool = client.create_tool(sort_FS)\n"
   ]
  },
  {
   "cell_type": "code",
   "execution_count": 36,
   "metadata": {},
   "outputs": [
    {
     "name": "stdout",
     "output_type": "stream",
     "text": [
      "Testing Output: Using the template and given the following files, group the files into the template based on the commonalities of ONLY on the extensions of the file, and not on the name.If an item has already be grouped, do not group it again. Thus, for each item listed, it should only appear once amoungst all groups. Return only the output template and nothing else:\n",
      "Template:\n",
      "[group 1]{item 1, item2, ...}\n",
      "[group 2]{item 3, item 4, ...}\n",
      "...\n",
      "Items:\n",
      "shoe.txt\n",
      "tv.txt\n",
      "fish.txt\n",
      "bird.txt\n",
      "apple.txt\n",
      "dog.txt\n",
      "lemon.txt\n",
      "fish.pdf\n",
      "apple.pdf\n",
      "lol.dmg\n",
      "MY_ANSWER \"Here are the groups based on the file extensions:\\n[group 1]{shoe.txt, tv.txt, fish.txt, bird.txt, apple.txt, dog.txt, lemon.txt}\\n[group 2]{fish.pdf, apple.pdf}\\n[group 3]{lol.dmg}\"\n"
     ]
    },
    {
     "data": {
      "text/plain": [
       "'\"Here are the groups based on the file extensions:\\\\n[group 1]{shoe.txt, tv.txt, fish.txt, bird.txt, apple.txt, dog.txt, lemon.txt}\\\\n[group 2]{fish.pdf, apple.pdf}\\\\n[group 3]{lol.dmg}\"'"
      ]
     },
     "execution_count": 36,
     "metadata": {},
     "output_type": "execute_result"
    }
   ],
   "source": [
    "sort_FS('_', 'extension')"
   ]
  },
  {
   "cell_type": "code",
   "execution_count": null,
   "metadata": {},
   "outputs": [],
   "source": [
    "file = open('dataTable3.json') #NOTE: hardCoded\n",
    "fileData = json.load(file)\n",
    "#fileDataS = json.dumps(fileData)\n",
    "\n",
    "#create message to send to different agent\n",
    "#NOTE: 1 layer simple sort, based on name\n",
    "file_keys = fileData.keys()\n",
    "message = ''\n",
    "for k in file_keys:\n",
    "    try:\n",
    "        message =  message + '\\n file: \"' + k + '\" content: \"' + fileData[k]['summary'] + '\"'\n",
    "    except KeyError:\n",
    "        continue\n",
    "print(message)\n",
    "    "
   ]
  },
  {
   "cell_type": "code",
   "execution_count": null,
   "metadata": {},
   "outputs": [],
   "source": [
    "agentName = \"interfaceAgent\"\n",
    "\n",
    "agent_1 = client.create_agent(\n",
    "    name=agentName,\n",
    "    tools=[x.name for x in client.list_tools()]\n",
    "    )"
   ]
  }
 ],
 "metadata": {
  "kernelspec": {
   "display_name": "my_letta",
   "language": "python",
   "name": "python3"
  },
  "language_info": {
   "codemirror_mode": {
    "name": "ipython",
    "version": 3
   },
   "file_extension": ".py",
   "mimetype": "text/x-python",
   "name": "python",
   "nbconvert_exporter": "python",
   "pygments_lexer": "ipython3",
   "version": "3.12.4"
  }
 },
 "nbformat": 4,
 "nbformat_minor": 2
}
