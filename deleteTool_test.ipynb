{
 "cells": [
  {
   "cell_type": "code",
   "execution_count": 1,
   "metadata": {},
   "outputs": [
    {
     "name": "stdout",
     "output_type": "stream",
     "text": [
      "Initializing database...\n"
     ]
    }
   ],
   "source": [
    "from letta import create_client \n",
    "from letta import EmbeddingConfig, LLMConfig\n",
    "\n",
    "client = create_client()\n",
    "client.set_default_embedding_config(EmbeddingConfig.default_config(model_name=\"letta\"))\n",
    "client.set_default_llm_config(LLMConfig.default_config(model_name=\"letta\"))\n"
   ]
  },
  {
   "cell_type": "code",
   "execution_count": 2,
   "metadata": {},
   "outputs": [],
   "source": [
    "def verify_deletion(self, name: str):\n",
    "    \"\"\"\n",
    "    This is the tool to first call when a user wants to delete a file.\n",
    "    This function messages users, warning of deleting a file.\n",
    "\n",
    "    Args:\n",
    "        name (str): \n",
    "    \"\"\"\n",
    "    import os\n",
    "\n",
    "    deleteList = os.getcwd() + 'listFileDelete.txt'\n",
    "    \n",
    "    file = open(deleteList, 'w')\n",
    "    file.write(name)\n",
    "\n",
    "\n",
    "def delete_file(self, name: str): \n",
    "    \"\"\"\n",
    "    This tool deletes the specified file. Before going through with the deletion, we ask if the user to confirm the deleted file.\n",
    "\n",
    "    Args: \n",
    "        name (str): The name of the file to delete\n",
    "\n",
    "    Returns: \n",
    "        status (str): The status for the file. \n",
    "    \n",
    "    \"\"\"\n",
    "    import os\n",
    "    import json\n",
    "\n",
    "    #This section is to limit POSSIBLE deletions to specific file directory\n",
    "    limitDirectory = '/TestDirectory/' \n",
    "    currentDirectory = os.getcwd() + limitDirectory\n",
    "    remove_path = currentDirectory + name\n",
    "    \n",
    "    # trying to implement warning system\n",
    "    # name argument must be titled \"name\" for somereason\n",
    "    # response = client.send_message(\n",
    "    #     message = f'Return either \"yes\" or \"no\" based on the response of the user after asking: \"Are you sure you want to delete file\\n: {remove_path}\"',\n",
    "    #     role='System'\n",
    "    # )\n",
    "\n",
    "    \n",
    "    # responseSTR = response.messages[1].function_call.arguments\n",
    "    # finalResponse = json.loads(responseSTR)\n",
    "\n",
    "    try:\n",
    "        os.remove(remove_path)\n",
    "    except FileNotFoundError:\n",
    "        status = remove_path + f'\\ndoes not exist'\n",
    "    else:\n",
    "        status = remove_path + f'\\nhas been removed'\n",
    "    return status\n",
    "\n",
    "delete_tool = client.create_tool(delete_file)\n",
    "#call the delete_file function and delete file \"doct1.txt\"\n",
    "\n"
   ]
  },
  {
   "cell_type": "code",
   "execution_count": 3,
   "metadata": {},
   "outputs": [],
   "source": [
    "# #---TESTING---\n",
    "# testing how to send instructions to llm\n",
    "\n",
    "# response1 = client.send_message(\n",
    "#         agent_id=\"agent-d3cfdbe2-5ebb-4cfb-ab83-866ba26e97de\",\n",
    "#         message = f'what is 5 + 5',\n",
    "#         role='user'\n",
    "#     )\n",
    "\n",
    "# print(response1)"
   ]
  },
  {
   "cell_type": "code",
   "execution_count": 4,
   "metadata": {},
   "outputs": [],
   "source": [
    "# print(type(response1.messages[1]))\n",
    "# actualResponse = response1.messages[1].function_call.arguments\n",
    "# print(actualResponse)\n",
    "\n",
    "# import json\n",
    "# responsej = json.loads(actualResponse)\n",
    "# print(responsej['message'])\n",
    "# #--------------"
   ]
  },
  {
   "cell_type": "code",
   "execution_count": 5,
   "metadata": {},
   "outputs": [],
   "source": [
    "def query_birthday_db(self, name: str): \n",
    "    \"\"\"\n",
    "    This tool queries an external database to \n",
    "    lookup the birthday of someone given their name.\n",
    "\n",
    "    Args: \n",
    "        name (str): The name to look up \n",
    "\n",
    "    Returns: \n",
    "        birthday (str): The birthday in mm-dd-yyyy format\n",
    "    \n",
    "    \"\"\"\n",
    "    my_fake_data = {\n",
    "        \"bob\": \"03-06-1997\", \n",
    "        \"sarah\": \"03-06-1997\"\n",
    "    } \n",
    "    name = name.lower() \n",
    "    if name not in my_fake_data: \n",
    "        return None\n",
    "    else: \n",
    "        return my_fake_data[name]\n",
    "\n",
    "birthday_tool = client.create_tool(query_birthday_db)\n"
   ]
  },
  {
   "cell_type": "code",
   "execution_count": 6,
   "metadata": {},
   "outputs": [],
   "source": [
    "agentName = \"testing_agent\"\n",
    "\n",
    "agent_1 = client.create_agent(\n",
    "    name=agentName,\n",
    "    tools=[x.name for x in client.list_tools()]\n",
    "    )"
   ]
  },
  {
   "cell_type": "code",
   "execution_count": 7,
   "metadata": {},
   "outputs": [
    {
     "data": {
      "text/plain": [
       "['archival_memory_insert',\n",
       " 'archival_memory_search',\n",
       " 'conversation_search',\n",
       " 'conversation_search_date',\n",
       " 'pause_heartbeats',\n",
       " 'send_message',\n",
       " 'core_memory_append',\n",
       " 'core_memory_replace',\n",
       " 'print_working_directory',\n",
       " 'query_birthday_db',\n",
       " 'delete_file']"
      ]
     },
     "execution_count": 7,
     "metadata": {},
     "output_type": "execute_result"
    }
   ],
   "source": [
    "[x.name for x in client.list_tools()]\n",
    "# import os\n",
    "# os.getcwd() + '/TestDirectory'\n"
   ]
  }
 ],
 "metadata": {
  "kernelspec": {
   "display_name": "my_letta",
   "language": "python",
   "name": "python3"
  },
  "language_info": {
   "codemirror_mode": {
    "name": "ipython",
    "version": 3
   },
   "file_extension": ".py",
   "mimetype": "text/x-python",
   "name": "python",
   "nbconvert_exporter": "python",
   "pygments_lexer": "ipython3",
   "version": "3.12.4"
  }
 },
 "nbformat": 4,
 "nbformat_minor": 2
}
